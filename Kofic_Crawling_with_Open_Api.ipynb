{
  "nbformat": 4,
  "nbformat_minor": 0,
  "metadata": {
    "colab": {
      "name": "Kofic_Crawling_with_Open_Api.ipynb",
      "provenance": [],
      "authorship_tag": "ABX9TyMYY5pz7BlD56ADCRFNoWHo",
      "include_colab_link": true
    },
    "kernelspec": {
      "name": "python3",
      "display_name": "Python 3"
    }
  },
  "cells": [
    {
      "cell_type": "markdown",
      "metadata": {
        "id": "view-in-github",
        "colab_type": "text"
      },
      "source": [
        "<a href=\"https://colab.research.google.com/github/mizykk/Movie/blob/master/Kofic_Crawling_with_Open_Api.ipynb\" target=\"_parent\"><img src=\"https://colab.research.google.com/assets/colab-badge.svg\" alt=\"Open In Colab\"/></a>"
      ]
    },
    {
      "cell_type": "markdown",
      "metadata": {
        "id": "KlLjMVxx5VdS",
        "colab_type": "text"
      },
      "source": [
        "# Kofic 영화진흥위원회 Open API 웹 스크래핑 / 크롤링"
      ]
    },
    {
      "cell_type": "code",
      "metadata": {
        "id": "nKv-T0s75RXo",
        "colab_type": "code",
        "colab": {}
      },
      "source": [
        "import pandas as pd"
      ],
      "execution_count": 0,
      "outputs": []
    },
    {
      "cell_type": "markdown",
      "metadata": {
        "id": "XXXlBf655eKI",
        "colab_type": "text"
      },
      "source": [
        "## XML "
      ]
    },
    {
      "cell_type": "markdown",
      "metadata": {
        "id": "9pZkZeaa5hXV",
        "colab_type": "text"
      },
      "source": [
        "영화 박스오피스 데이터 가져오기    \n",
        "&nbsp;\n",
        "\n",
        "< 요청 인터페이스 >\n",
        "\n",
        "- key\t: 문자열(필수) : 발급받은키 값을 입력합니다.  \n",
        "- targetDt : 문자열(필수) : 조회하고자 하는 날짜를 yyyymmdd 형식으로 입력합니다.    \n",
        "- itemPerPage\t: 문자열 : 결과 ROW 의 개수를 지정합니다.(default : “10”, 최대 : “10“)  \n",
        "- multiMovieYn : 문자열 : 다양성 영화/상업영화를 구분지어 조회할 수 있습니다. (“Y” : 다양성 영화 “N” : 상업영화 (default : 전체))  \n",
        "- repNationCd\t: 문자열 : 한국/외국 영화별로 조회할 수 있습니다. (“K: : 한국영화 “F” : 외국영화 (default : 전체))  \n",
        "- wideAreaCd : 문자열 : 상영지역별로 조회할 수 있으며, 지역코드는 공통코드 조회 서비스에서 “0105000000” 로서 조회된 지역코드입니다. (default : 전체)  "
      ]
    },
    {
      "cell_type": "code",
      "metadata": {
        "id": "bZGSpCOI5Woc",
        "colab_type": "code",
        "colab": {}
      },
      "source": [
        "import requests\n",
        "from bs4 import BeautifulSoup"
      ],
      "execution_count": 0,
      "outputs": []
    },
    {
      "cell_type": "code",
      "metadata": {
        "id": "3KYXUg645sSe",
        "colab_type": "code",
        "colab": {}
      },
      "source": [
        "url = 'http://www.kobis.or.kr/kobisopenapi/webservice/rest/boxoffice/searchDailyBoxOfficeList.xml?key=4300765ab2beaed1810e5c92d6e3fb47&targetDt=20200222'\n",
        "\n",
        "rq = requests.get(url)\n",
        "html = rq.text\n",
        "bs = BeautifulSoup(html, 'html.parser')"
      ],
      "execution_count": 0,
      "outputs": []
    },
    {
      "cell_type": "code",
      "metadata": {
        "id": "nOtzX7615u3U",
        "colab_type": "code",
        "colab": {
          "base_uri": "https://localhost:8080/",
          "height": 55
        },
        "outputId": "87138396-87e2-4e66-9249-cf2b5a3d5e3f"
      },
      "source": [
        "bs"
      ],
      "execution_count": 4,
      "outputs": [
        {
          "output_type": "execute_result",
          "data": {
            "text/plain": [
              "<?xml version=\"1.0\" encoding=\"utf-8\" standalone=\"yes\"?><boxofficeresult><boxofficetype>일별 박스오피스</boxofficetype><showrange>20200222~20200222</showrange><dailyboxofficelist><dailyboxoffice><rnum>1</rnum><rank>1</rank><rankinten>0</rankinten><rankoldandnew>OLD</rankoldandnew><moviecd>20180962</moviecd><movienm>지푸라기라도 잡고 싶은 짐승들</movienm><opendt>2020-02-19</opendt><salesamt>873605400</salesamt><salesshare>32.7</salesshare><salesinten>341877240</salesinten><saleschange>64.3</saleschange><salesacc>2604578390</salesacc><audicnt>95554</audicnt><audiinten>36544</audiinten><audichange>61.9</audichange><audiacc>301418</audiacc><scrncnt>996</scrncnt><showcnt>4620</showcnt></dailyboxoffice><dailyboxoffice><rnum>2</rnum><rank>2</rank><rankinten>0</rankinten><rankoldandnew>OLD</rankoldandnew><moviecd>20192399</moviecd><movienm>1917</movienm><opendt>2020-02-19</opendt><salesamt>695995020</salesamt><salesshare>26.0</salesshare><salesinten>270424600</salesinten><saleschange>63.5</saleschange><salesacc>2110490020</salesacc><audicnt>72170</audicnt><audiinten>27787</audiinten><audichange>62.6</audichange><audiacc>229147</audiacc><scrncnt>872</scrncnt><showcnt>3619</showcnt></dailyboxoffice><dailyboxoffice><rnum>3</rnum><rank>3</rank><rankinten>0</rankinten><rankoldandnew>OLD</rankoldandnew><moviecd>20193321</moviecd><movienm>정직한 후보</movienm><opendt>2020-02-12</opendt><salesamt>535526650</salesamt><salesshare>20.0</salesshare><salesinten>183568390</salesinten><saleschange>52.2</saleschange><salesacc>11026723340</salesacc><audicnt>59717</audicnt><audiinten>19767</audiinten><audichange>49.5</audichange><audiacc>1308837</audiacc><scrncnt>967</scrncnt><showcnt>4156</showcnt></dailyboxoffice><dailyboxoffice><rnum>4</rnum><rank>4</rank><rankinten>0</rankinten><rankoldandnew>OLD</rankoldandnew><moviecd>20192240</moviecd><movienm>작은 아씨들</movienm><opendt>2020-02-12</opendt><salesamt>290738700</salesamt><salesshare>10.9</salesshare><salesinten>68641130</salesinten><saleschange>30.9</saleschange><salesacc>5801274820</salesacc><audicnt>32445</audicnt><audiinten>7278</audiinten><audichange>28.9</audichange><audiacc>687756</audiacc><scrncnt>726</scrncnt><showcnt>2111</showcnt></dailyboxoffice><dailyboxoffice><rnum>5</rnum><rank>5</rank><rankinten>0</rankinten><rankoldandnew>OLD</rankoldandnew><moviecd>20182447</moviecd><movienm>클로젯</movienm><opendt>2020-02-05</opendt><salesamt>88406000</salesamt><salesshare>3.3</salesshare><salesinten>9753960</salesinten><saleschange>12.4</saleschange><salesacc>10763844400</salesacc><audicnt>10074</audicnt><audiinten>607</audiinten><audichange>6.4</audichange><audiacc>1245758</audiacc><scrncnt>436</scrncnt><showcnt>885</showcnt></dailyboxoffice><dailyboxoffice><rnum>6</rnum><rank>6</rank><rankinten>0</rankinten><rankoldandnew>OLD</rankoldandnew><moviecd>20183782</moviecd><movienm>기생충</movienm><opendt>2019-05-30</opendt><salesamt>36180400</salesamt><salesshare>1.4</salesshare><salesinten>7266160</salesinten><saleschange>25.1</saleschange><salesacc>87155507845</salesacc><audicnt>5308</audicnt><audiinten>974</audiinten><audichange>22.5</audichange><audiacc>10273591</audiacc><scrncnt>144</scrncnt><showcnt>322</showcnt></dailyboxoffice><dailyboxoffice><rnum>7</rnum><rank>7</rank><rankinten>2</rankinten><rankoldandnew>OLD</rankoldandnew><moviecd>20184891</moviecd><movienm>수퍼 소닉</movienm><opendt>2020-02-12</opendt><salesamt>24779560</salesamt><salesshare>0.9</salesshare><salesinten>11265180</salesinten><saleschange>83.4</saleschange><salesacc>873993230</salesacc><audicnt>2993</audicnt><audiinten>1263</audiinten><audichange>73</audichange><audiacc>111378</audiacc><scrncnt>250</scrncnt><showcnt>356</showcnt></dailyboxoffice><dailyboxoffice><rnum>8</rnum><rank>8</rank><rankinten>-1</rankinten><rankoldandnew>OLD</rankoldandnew><moviecd>20193911</moviecd><movienm>하이, 젝시</movienm><opendt>2020-02-19</opendt><salesamt>25587500</salesamt><salesshare>1.0</salesshare><salesinten>-513500</salesinten><saleschange>-2</saleschange><salesacc>151221000</salesacc><audicnt>2806</audicnt><audiinten>-83</audiinten><audichange>-2.9</audichange><audiacc>19107</audiacc><scrncnt>174</scrncnt><showcnt>474</showcnt></dailyboxoffice><dailyboxoffice><rnum>9</rnum><rank>9</rank><rankinten>-1</rankinten><rankoldandnew>OLD</rankoldandnew><moviecd>20197390</moviecd><movienm>조조 래빗</movienm><opendt>2020-02-05</opendt><salesamt>24372780</salesamt><salesshare>0.9</salesshare><salesinten>8544700</salesinten><saleschange>54</saleschange><salesacc>827500160</salesacc><audicnt>2669</audicnt><audiinten>894</audiinten><audichange>50.4</audichange><audiacc>96311</audiacc><scrncnt>137</scrncnt><showcnt>240</showcnt></dailyboxoffice><dailyboxoffice><rnum>10</rnum><rank>10</rank><rankinten>0</rankinten><rankoldandnew>OLD</rankoldandnew><moviecd>20193288</moviecd><movienm>숀더쉽 더 무비: 꼬마 외계인 룰라!</movienm><opendt>2020-02-19</opendt><salesamt>12278860</salesamt><salesshare>0.5</salesshare><salesinten>3285500</salesinten><saleschange>36.5</saleschange><salesacc>62257580</salesacc><audicnt>1556</audicnt><audiinten>422</audiinten><audichange>37.2</audichange><audiacc>8113</audiacc><scrncnt>243</scrncnt><showcnt>295</showcnt></dailyboxoffice></dailyboxofficelist></boxofficeresult>"
            ]
          },
          "metadata": {
            "tags": []
          },
          "execution_count": 4
        }
      ]
    },
    {
      "cell_type": "markdown",
      "metadata": {
        "id": "W3xborHa5xo1",
        "colab_type": "text"
      },
      "source": [
        "### 원하는 데이터에 접근"
      ]
    },
    {
      "cell_type": "markdown",
      "metadata": {
        "id": "NsC_8uXl7uvd",
        "colab_type": "text"
      },
      "source": [
        "- boxofficeType : 박스오피스 종류  \n",
        "- showRange : 박스오피스 조회 일자  \n",
        "- rnum : 순번   \n",
        "- rank : 해당일자 박스오피스 순위  \n",
        "- rankInten : 전일대비 순위 증감분   \n",
        "- rankOldAndNew : 랭킹 신규진입여부  (“OLD” : 기존 , “NEW” : 신규)  \n",
        "- movieCd : 영화 대표코드    \n",
        "- movieNm : 영화명(국문)  \n",
        "- openDt : 영화 개봉일  \n",
        "- salesAmt : 해당일 매출액    \n",
        "- salesShare : 해당일자 상영작의 매출총액 대비 해당 영화의 매출비율  \n",
        "- salesInten : 전일 대비 매출액 증감분  \n",
        "- salesChange : 전일 대비 매출액 증감 비율  \n",
        "- salesAcc : 누적매출액  \n",
        "- audiCnt : 해당일 관객수  \n",
        "- audiInten : 전일 대비 관객수 증감분  \n",
        "- audiChange : 전일 대비 관객수 증감 비율  \n",
        "- audiAcc : 누적관객수  \n",
        "- scrnCnt :\t해당일자에 상영한 스크린수  \n",
        "- showCnt : 해당일자에 상영된 횟수  "
      ]
    },
    {
      "cell_type": "code",
      "metadata": {
        "id": "nd3uhDtc5vPb",
        "colab_type": "code",
        "colab": {
          "base_uri": "https://localhost:8080/",
          "height": 197
        },
        "outputId": "4daaad01-e277-42c6-a38a-32c2d4d6ca15"
      },
      "source": [
        "bs.find_all('movienm')"
      ],
      "execution_count": 5,
      "outputs": [
        {
          "output_type": "execute_result",
          "data": {
            "text/plain": [
              "[<movienm>지푸라기라도 잡고 싶은 짐승들</movienm>,\n",
              " <movienm>1917</movienm>,\n",
              " <movienm>정직한 후보</movienm>,\n",
              " <movienm>작은 아씨들</movienm>,\n",
              " <movienm>클로젯</movienm>,\n",
              " <movienm>기생충</movienm>,\n",
              " <movienm>수퍼 소닉</movienm>,\n",
              " <movienm>하이, 젝시</movienm>,\n",
              " <movienm>조조 래빗</movienm>,\n",
              " <movienm>숀더쉽 더 무비: 꼬마 외계인 룰라!</movienm>]"
            ]
          },
          "metadata": {
            "tags": []
          },
          "execution_count": 5
        }
      ]
    },
    {
      "cell_type": "markdown",
      "metadata": {
        "id": "VSpl3Opt53NN",
        "colab_type": "text"
      },
      "source": [
        "## Json"
      ]
    },
    {
      "cell_type": "markdown",
      "metadata": {
        "id": "XZM9DDeB8vTn",
        "colab_type": "text"
      },
      "source": [
        "영화인"
      ]
    },
    {
      "cell_type": "code",
      "metadata": {
        "id": "ARSSOkMs54So",
        "colab_type": "code",
        "colab": {}
      },
      "source": [
        "import requests\n",
        "import json"
      ],
      "execution_count": 0,
      "outputs": []
    },
    {
      "cell_type": "markdown",
      "metadata": {
        "id": "9r9zKrvO80MY",
        "colab_type": "text"
      },
      "source": [
        "### 1. 첫번째 방법"
      ]
    },
    {
      "cell_type": "code",
      "metadata": {
        "id": "5Xr5f9La8xV6",
        "colab_type": "code",
        "colab": {}
      },
      "source": [
        "url = 'http://www.kobis.or.kr/kobisopenapi/webservice/rest/people/searchPeopleList.json'\n",
        "\n",
        "param = {\n",
        "        'key' : '4300765ab2beaed1810e5c92d6e3fb47',   # 발급받은 키\n",
        "        'peopleNm' : '김희애'   # 검색하려는 영화인\n",
        "}\n",
        "\n",
        "rq = requests.get(url, params = param)\n",
        "j = rq.json()"
      ],
      "execution_count": 0,
      "outputs": []
    },
    {
      "cell_type": "markdown",
      "metadata": {
        "id": "PR3VTqPD85Yb",
        "colab_type": "text"
      },
      "source": [
        "가져온 값"
      ]
    },
    {
      "cell_type": "code",
      "metadata": {
        "id": "nX76bGO783Tf",
        "colab_type": "code",
        "colab": {
          "base_uri": "https://localhost:8080/",
          "height": 503
        },
        "outputId": "f20da48d-a33f-42ce-d084-7e169985857f"
      },
      "source": [
        "j"
      ],
      "execution_count": 8,
      "outputs": [
        {
          "output_type": "execute_result",
          "data": {
            "text/plain": [
              "{'peopleListResult': {'peopleList': [{'filmoNames': '봉오동 전투|사자',\n",
              "    'peopleCd': '20340920',\n",
              "    'peopleNm': '김희애',\n",
              "    'peopleNmEn': '',\n",
              "    'repRoleNm': 'VFX 매니지먼트'},\n",
              "   {'filmoNames': '윤희에게|허스토리|사라진 밤|쎄시봉|우아한 거짓말|백한번째 프로포즈|英雄 돌아오다|내사랑 짱구|불의 회상',\n",
              "    'peopleCd': '10006537',\n",
              "    'peopleNm': '김희애',\n",
              "    'peopleNmEn': 'KIM Hee-ae',\n",
              "    'repRoleNm': '배우'},\n",
              "   {'filmoNames': 'PMC: 더 벙커|신과함께-인과 연|독전|1987|신과함께-죄와 벌',\n",
              "    'peopleCd': '20300609',\n",
              "    'peopleNm': '김희애',\n",
              "    'peopleNmEn': '',\n",
              "    'repRoleNm': 'VFX 아티스트'},\n",
              "   {'filmoNames': '우동 한 그릇',\n",
              "    'peopleCd': '20313192',\n",
              "    'peopleNm': '김희애',\n",
              "    'peopleNmEn': 'KIM Hee-ae',\n",
              "    'repRoleNm': '의상'},\n",
              "   {'filmoNames': '엄딸|돌연변이',\n",
              "    'peopleCd': '20227629',\n",
              "    'peopleNm': '김희애',\n",
              "    'peopleNmEn': '',\n",
              "    'repRoleNm': '분장'}],\n",
              "  'source': '영화진흥위원회',\n",
              "  'totCnt': 5}}"
            ]
          },
          "metadata": {
            "tags": []
          },
          "execution_count": 8
        }
      ]
    },
    {
      "cell_type": "markdown",
      "metadata": {
        "id": "dgHAhlMw883s",
        "colab_type": "text"
      },
      "source": [
        "### 2. 두번째 방법"
      ]
    },
    {
      "cell_type": "code",
      "metadata": {
        "id": "617cNFQA87Ag",
        "colab_type": "code",
        "colab": {}
      },
      "source": [
        "key = '4300765ab2beaed1810e5c92d6e3fb47'\n",
        "name = '전지현'\n",
        "\n",
        "url = f'http://www.kobis.or.kr/kobisopenapi/webservice/rest/people/searchPeopleList.json?key={key}&peopleNm={name}'\n",
        "\n",
        "rq = requests.get(url)\n",
        "t = rq.text\n",
        "j = json.loads(t)"
      ],
      "execution_count": 0,
      "outputs": []
    },
    {
      "cell_type": "code",
      "metadata": {
        "id": "qtKVFtca8-bK",
        "colab_type": "code",
        "colab": {
          "base_uri": "https://localhost:8080/",
          "height": 593
        },
        "outputId": "09fa335d-d676-4790-9d9c-c2259317ae26"
      },
      "source": [
        "j"
      ],
      "execution_count": 10,
      "outputs": [
        {
          "output_type": "execute_result",
          "data": {
            "text/plain": [
              "{'peopleListResult': {'peopleList': [{'filmoNames': '비스트|나의 특별한 형제|생일',\n",
              "    'peopleCd': '20341024',\n",
              "    'peopleNm': '전지현',\n",
              "    'peopleNmEn': '',\n",
              "    'repRoleNm': '홍보/마케팅 진행'},\n",
              "   {'filmoNames': '기생충',\n",
              "    'peopleCd': '20341042',\n",
              "    'peopleNm': '전지현',\n",
              "    'peopleNmEn': '',\n",
              "    'repRoleNm': '미술팀'},\n",
              "   {'filmoNames': '물괴|독전|택시운전사',\n",
              "    'peopleCd': '20287289',\n",
              "    'peopleNm': '전지현',\n",
              "    'peopleNmEn': '',\n",
              "    'repRoleNm': '미술팀'},\n",
              "   {'filmoNames': '암살|베를린|도둑들|도둑들 영화를 만들다|블러드|슈퍼맨이었던 사나이|데이지|내 여자친구를 소개합니다|4인용 식탁|엽기적인 그녀|시월애|화이트 발렌타인',\n",
              "    'peopleCd': '10061467',\n",
              "    'peopleNm': '전지현',\n",
              "    'peopleNmEn': 'Gianna JUN',\n",
              "    'repRoleNm': '배우'},\n",
              "   {'filmoNames': '반짝이는 박수 소리',\n",
              "    'peopleCd': '20218384',\n",
              "    'peopleNm': '전지현',\n",
              "    'peopleNmEn': '',\n",
              "    'repRoleNm': '촬영'},\n",
              "   {'filmoNames': '산다',\n",
              "    'peopleCd': '20218383',\n",
              "    'peopleNm': '전지현',\n",
              "    'peopleNmEn': '',\n",
              "    'repRoleNm': '배우'}],\n",
              "  'source': '영화진흥위원회',\n",
              "  'totCnt': 6}}"
            ]
          },
          "metadata": {
            "tags": []
          },
          "execution_count": 10
        }
      ]
    },
    {
      "cell_type": "markdown",
      "metadata": {
        "id": "qNgWHvz_9Gr2",
        "colab_type": "text"
      },
      "source": [
        "---  \n",
        "### 원하는 데이터에 접근"
      ]
    },
    {
      "cell_type": "code",
      "metadata": {
        "id": "gSOAoYd98_oy",
        "colab_type": "code",
        "colab": {
          "base_uri": "https://localhost:8080/",
          "height": 107
        },
        "outputId": "67926e58-c667-4e79-8715-44d5bf0c6174"
      },
      "source": [
        "j['peopleListResult']['peopleList'][3]"
      ],
      "execution_count": 11,
      "outputs": [
        {
          "output_type": "execute_result",
          "data": {
            "text/plain": [
              "{'filmoNames': '암살|베를린|도둑들|도둑들 영화를 만들다|블러드|슈퍼맨이었던 사나이|데이지|내 여자친구를 소개합니다|4인용 식탁|엽기적인 그녀|시월애|화이트 발렌타인',\n",
              " 'peopleCd': '10061467',\n",
              " 'peopleNm': '전지현',\n",
              " 'peopleNmEn': 'Gianna JUN',\n",
              " 'repRoleNm': '배우'}"
            ]
          },
          "metadata": {
            "tags": []
          },
          "execution_count": 11
        }
      ]
    },
    {
      "cell_type": "code",
      "metadata": {
        "id": "QmY8F5WA9OPs",
        "colab_type": "code",
        "colab": {
          "base_uri": "https://localhost:8080/",
          "height": 35
        },
        "outputId": "0d9298b3-9fd3-46f2-a085-6b3aee49f97f"
      },
      "source": [
        "j['peopleListResult']['peopleList'][3]['filmoNames']"
      ],
      "execution_count": 12,
      "outputs": [
        {
          "output_type": "execute_result",
          "data": {
            "text/plain": [
              "'암살|베를린|도둑들|도둑들 영화를 만들다|블러드|슈퍼맨이었던 사나이|데이지|내 여자친구를 소개합니다|4인용 식탁|엽기적인 그녀|시월애|화이트 발렌타인'"
            ]
          },
          "metadata": {
            "tags": []
          },
          "execution_count": 12
        }
      ]
    },
    {
      "cell_type": "markdown",
      "metadata": {
        "id": "3Ufp-TP19QtI",
        "colab_type": "text"
      },
      "source": [
        "### 데이터프레임으로 만들기"
      ]
    },
    {
      "cell_type": "code",
      "metadata": {
        "id": "J6Ub6quC9OiB",
        "colab_type": "code",
        "colab": {
          "base_uri": "https://localhost:8080/",
          "height": 80
        },
        "outputId": "fc9d8386-2975-4ccb-eb57-ce293e69420b"
      },
      "source": [
        "pd.DataFrame(columns = j['peopleListResult']['peopleList'][3].keys(),\n",
        "            data = [j['peopleListResult']['peopleList'][3].values()])"
      ],
      "execution_count": 13,
      "outputs": [
        {
          "output_type": "execute_result",
          "data": {
            "text/html": [
              "<div>\n",
              "<style scoped>\n",
              "    .dataframe tbody tr th:only-of-type {\n",
              "        vertical-align: middle;\n",
              "    }\n",
              "\n",
              "    .dataframe tbody tr th {\n",
              "        vertical-align: top;\n",
              "    }\n",
              "\n",
              "    .dataframe thead th {\n",
              "        text-align: right;\n",
              "    }\n",
              "</style>\n",
              "<table border=\"1\" class=\"dataframe\">\n",
              "  <thead>\n",
              "    <tr style=\"text-align: right;\">\n",
              "      <th></th>\n",
              "      <th>peopleCd</th>\n",
              "      <th>peopleNm</th>\n",
              "      <th>peopleNmEn</th>\n",
              "      <th>repRoleNm</th>\n",
              "      <th>filmoNames</th>\n",
              "    </tr>\n",
              "  </thead>\n",
              "  <tbody>\n",
              "    <tr>\n",
              "      <th>0</th>\n",
              "      <td>10061467</td>\n",
              "      <td>전지현</td>\n",
              "      <td>Gianna JUN</td>\n",
              "      <td>배우</td>\n",
              "      <td>암살|베를린|도둑들|도둑들 영화를 만들다|블러드|슈퍼맨이었던 사나이|데이지|내 여자...</td>\n",
              "    </tr>\n",
              "  </tbody>\n",
              "</table>\n",
              "</div>"
            ],
            "text/plain": [
              "   peopleCd  ...                                         filmoNames\n",
              "0  10061467  ...  암살|베를린|도둑들|도둑들 영화를 만들다|블러드|슈퍼맨이었던 사나이|데이지|내 여자...\n",
              "\n",
              "[1 rows x 5 columns]"
            ]
          },
          "metadata": {
            "tags": []
          },
          "execution_count": 13
        }
      ]
    }
  ]
}